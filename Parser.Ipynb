{
 "metadata": {
  "language_info": {
   "codemirror_mode": {
    "name": "ipython",
    "version": 3
   },
   "file_extension": ".py",
   "mimetype": "text/x-python",
   "name": "python",
   "nbconvert_exporter": "python",
   "pygments_lexer": "ipython3",
   "version": "3.8.2-final"
  },
  "orig_nbformat": 2,
  "kernelspec": {
   "name": "python38264bit9f97f79af64c41cd943cf1be83ecc4d7",
   "display_name": "Python 3.8.2 64-bit"
  }
 },
 "nbformat": 4,
 "nbformat_minor": 2,
 "cells": [
  {
   "cell_type": "code",
   "execution_count": 1,
   "metadata": {},
   "outputs": [],
   "source": [
    "import re"
   ]
  },
  {
   "cell_type": "code",
   "execution_count": 2,
   "metadata": {
    "tags": []
   },
   "outputs": [],
   "source": [
    "def parser(file_path='Quake.txt'):\n",
    "    \"\"\" Essa função recebe o caminho ao arquivo a ser utilizado, neste caso, quake.txt, e retorna as informações\n",
    "        pedidas no desáfio em uma lista de dicionários em ordem de jogo\n",
    "    \"\"\"\n",
    "    file = open('Quake.txt', 'r')\n",
    "\n",
    "    time_log = r\"\\s*\\d+:\\d+\\s\"\n",
    "\n",
    "    initgame = re.compile(time_log+\"initgame\", flags=re.IGNORECASE)\n",
    "\n",
    "    connect = re.compile(time_log+\"clientconnect\", re.IGNORECASE)\n",
    "\n",
    "    info_change = re.compile(time_log+\"ClientUserinfoChanged\", re.IGNORECASE)\n",
    "\n",
    "    kill = re.compile(time_log+\"Kill\", re.I)\n",
    "\n",
    "    shutdown = re.compile(time_log+\"shutdowngame\", re.I)\n",
    "\n",
    "    result = []\n",
    "    game = 1\n",
    "    for i in file:\n",
    "        if initgame.match(i):                                                           ## Procura inicio da partída\n",
    "            result.append({'game': game, 'status':{'total_kills': 0, 'players': []}}) \n",
    "            ids = []\n",
    "\n",
    "        elif connect.match(i):                                                          ## '' novo jogador conectado, define ids\n",
    "            player_id = i.split()[2]\n",
    "            if player_id not in ids:\n",
    "                result[game-1]['status']['players'].append({'id': player_id, 'name':\"\", 'kills': 0, \"old_names\":[]})\n",
    "                ids.append(player_id)\n",
    "            \n",
    "            \n",
    "        elif info_change.match(i):                                                      ##  '' confere se o nome foi alterado, guarda nome substituido | define nome\n",
    "            player_id = i.split()[2]\n",
    "            name = i.split('\\\\')[1]\n",
    "            ids_len = len(ids)       \n",
    "\n",
    "            for i in range(ids_len):\n",
    "                if result[game-1]['status']['players'][i]['id'] == player_id:\n",
    "                    if result[game-1]['status']['players'][i]['name'] == name:\n",
    "                        break\n",
    "\n",
    "                    elif result[game-1]['status']['players'][i]['name'] == \"\":\n",
    "                        result[game-1]['status']['players'][i]['name'] = name\n",
    "                        \n",
    "                    else:\n",
    "                        result[game-1]['status']['players'][i]['old_names'].append(result[game-1]['status']['players'][i]['name'])\n",
    "                            \n",
    "                        result[game-1]['status']['players'][i]['name'] = name\n",
    "                    break\n",
    "\n",
    "        \n",
    "        elif kill.match(i):                                      ## adiciona ao total de kills, adiciona kills a quem mata, e diminui kills a quem morre pelo mundo\n",
    "        \n",
    "            result[game-1]['status']['total_kills'] +=1\n",
    "            \n",
    "            ids_len = len(ids)\n",
    "            line = i.split(': ')[1].split()                             ## [0] quem matou [1] quem morreu\n",
    "\n",
    "            if line[0] == 1022:             # 1022 world id \n",
    "                killed_id = line[1]\n",
    "\n",
    "                for k in range(ids_len):\n",
    "                    \n",
    "                    if result[game-1]['status']['players'][k]['id'] == killed_id :\n",
    "                        result[game-1]['status']['players'][k]['kills'] -= 1\n",
    "                        break\n",
    "            else :\n",
    "                killer_id = line[0]\n",
    "                for k in range(ids_len):\n",
    "                    \n",
    "                    if result[game-1]['status']['players'][k]['id'] == killer_id :\n",
    "                        result[game-1]['status']['players'][k]['kills'] += 1\n",
    "                        break\n",
    "            \n",
    "            \n",
    "        elif shutdown.match(i):\n",
    "            game +=1\n",
    "    \n",
    "    file.close()\n",
    "\n",
    "    return result\n"
   ]
  },
  {
   "cell_type": "code",
   "execution_count": 3,
   "metadata": {},
   "outputs": [],
   "source": [
    "games = parser()"
   ]
  },
  {
   "cell_type": "markdown",
   "metadata": {},
   "source": [
    "Para importar para um arquivo em JSON, basta escolher o game, e o nome do arquivo desejado, lembrando que o indice para o primeiro game é 0."
   ]
  },
  {
   "cell_type": "code",
   "execution_count": 5,
   "metadata": {},
   "outputs": [],
   "source": [
    "import json\n",
    "\n",
    "with open('game_1.json', 'w') as json_file:\n",
    "  json.dump(games[0], json_file, indent=2, sort_keys=True)"
   ]
  }
 ]
}
